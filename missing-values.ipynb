{
 "cells": [
  {
   "cell_type": "code",
   "execution_count": 1,
   "id": "879b214d",
   "metadata": {
    "_cell_guid": "b1076dfc-b9ad-4769-8c92-a6c4dae69d19",
    "_uuid": "8f2839f25d086af736a60e9eeb907d3b93b6e0e5",
    "execution": {
     "iopub.execute_input": "2022-05-19T05:29:15.983834Z",
     "iopub.status.busy": "2022-05-19T05:29:15.983082Z",
     "iopub.status.idle": "2022-05-19T05:29:16.007858Z",
     "shell.execute_reply": "2022-05-19T05:29:16.006979Z"
    },
    "papermill": {
     "duration": 0.049137,
     "end_time": "2022-05-19T05:29:16.010279",
     "exception": false,
     "start_time": "2022-05-19T05:29:15.961142",
     "status": "completed"
    },
    "tags": []
   },
   "outputs": [
    {
     "name": "stdout",
     "output_type": "stream",
     "text": [
      "/kaggle/input/gufhtugu-publications-dataset-challenge/GP Orders - 2.csv\n",
      "/kaggle/input/gufhtugu-publications-dataset-challenge/GP Orders - 4.csv\n",
      "/kaggle/input/gufhtugu-publications-dataset-challenge/GP Orders - 5.csv\n",
      "/kaggle/input/nflplaybyplay2009to2016/NFL Play by Play 2009-2017 (v4).csv\n",
      "/kaggle/input/nflplaybyplay2009to2016/NFL Play by Play 2009-2016 (v3).csv\n",
      "/kaggle/input/nflplaybyplay2009to2016/NFL Play by Play 2009-2018 (v5).csv\n"
     ]
    }
   ],
   "source": [
    "# This Python 3 environment comes with many helpful analytics libraries installed\n",
    "# It is defined by the kaggle/python Docker image: https://github.com/kaggle/docker-python\n",
    "# For example, here's several helpful packages to load\n",
    "\n",
    "import numpy as np # linear algebra\n",
    "import pandas as pd # data processing, CSV file I/O (e.g. pd.read_csv)\n",
    "\n",
    "# Input data files are available in the read-only \"../input/\" directory\n",
    "# For example, running this (by clicking run or pressing Shift+Enter) will list all files under the input directory\n",
    "\n",
    "import os\n",
    "for dirname, _, filenames in os.walk('/kaggle/input'):\n",
    "    for filename in filenames:\n",
    "        print(os.path.join(dirname, filename))\n",
    "\n",
    "# You can write up to 20GB to the current directory (/kaggle/working/) that gets preserved as output when you create a version using \"Save & Run All\" \n",
    "# You can also write temporary files to /kaggle/temp/, but they won't be saved outside of the current session"
   ]
  },
  {
   "cell_type": "code",
   "execution_count": 2,
   "id": "8a5a606b",
   "metadata": {
    "execution": {
     "iopub.execute_input": "2022-05-19T05:29:16.050365Z",
     "iopub.status.busy": "2022-05-19T05:29:16.049819Z",
     "iopub.status.idle": "2022-05-19T05:29:24.172129Z",
     "shell.execute_reply": "2022-05-19T05:29:24.171369Z"
    },
    "papermill": {
     "duration": 8.144504,
     "end_time": "2022-05-19T05:29:24.174440",
     "exception": false,
     "start_time": "2022-05-19T05:29:16.029936",
     "status": "completed"
    },
    "tags": []
   },
   "outputs": [
    {
     "name": "stderr",
     "output_type": "stream",
     "text": [
      "/opt/conda/lib/python3.7/site-packages/IPython/core/interactiveshell.py:3524: DtypeWarning: Columns (25,51) have mixed types.Specify dtype option on import or set low_memory=False.\n",
      "  exec(code_obj, self.user_global_ns, self.user_ns)\n"
     ]
    }
   ],
   "source": [
    "# modules we'll use\n",
    "import pandas as pd\n",
    "import numpy as np\n",
    "\n",
    "# read in all our data\n",
    "nfl_data = pd.read_csv(\"../input/nflplaybyplay2009to2016/NFL Play by Play 2009-2017 (v4).csv\")\n",
    "\n",
    "# set seed for reproducibility\n",
    "np.random.seed(0) "
   ]
  },
  {
   "cell_type": "code",
   "execution_count": 3,
   "id": "2b041e39",
   "metadata": {
    "execution": {
     "iopub.execute_input": "2022-05-19T05:29:24.214853Z",
     "iopub.status.busy": "2022-05-19T05:29:24.214386Z",
     "iopub.status.idle": "2022-05-19T05:29:24.256159Z",
     "shell.execute_reply": "2022-05-19T05:29:24.253968Z"
    },
    "papermill": {
     "duration": 0.06581,
     "end_time": "2022-05-19T05:29:24.259359",
     "exception": false,
     "start_time": "2022-05-19T05:29:24.193549",
     "status": "completed"
    },
    "tags": []
   },
   "outputs": [
    {
     "data": {
      "text/html": [
       "<div>\n",
       "<style scoped>\n",
       "    .dataframe tbody tr th:only-of-type {\n",
       "        vertical-align: middle;\n",
       "    }\n",
       "\n",
       "    .dataframe tbody tr th {\n",
       "        vertical-align: top;\n",
       "    }\n",
       "\n",
       "    .dataframe thead th {\n",
       "        text-align: right;\n",
       "    }\n",
       "</style>\n",
       "<table border=\"1\" class=\"dataframe\">\n",
       "  <thead>\n",
       "    <tr style=\"text-align: right;\">\n",
       "      <th></th>\n",
       "      <th>Date</th>\n",
       "      <th>GameID</th>\n",
       "      <th>Drive</th>\n",
       "      <th>qtr</th>\n",
       "      <th>down</th>\n",
       "      <th>time</th>\n",
       "      <th>TimeUnder</th>\n",
       "      <th>TimeSecs</th>\n",
       "      <th>PlayTimeDiff</th>\n",
       "      <th>SideofField</th>\n",
       "      <th>...</th>\n",
       "      <th>yacEPA</th>\n",
       "      <th>Home_WP_pre</th>\n",
       "      <th>Away_WP_pre</th>\n",
       "      <th>Home_WP_post</th>\n",
       "      <th>Away_WP_post</th>\n",
       "      <th>Win_Prob</th>\n",
       "      <th>WPA</th>\n",
       "      <th>airWPA</th>\n",
       "      <th>yacWPA</th>\n",
       "      <th>Season</th>\n",
       "    </tr>\n",
       "  </thead>\n",
       "  <tbody>\n",
       "    <tr>\n",
       "      <th>0</th>\n",
       "      <td>2009-09-10</td>\n",
       "      <td>2009091000</td>\n",
       "      <td>1</td>\n",
       "      <td>1</td>\n",
       "      <td>NaN</td>\n",
       "      <td>15:00</td>\n",
       "      <td>15</td>\n",
       "      <td>3600.0</td>\n",
       "      <td>0.0</td>\n",
       "      <td>TEN</td>\n",
       "      <td>...</td>\n",
       "      <td>NaN</td>\n",
       "      <td>0.485675</td>\n",
       "      <td>0.514325</td>\n",
       "      <td>0.546433</td>\n",
       "      <td>0.453567</td>\n",
       "      <td>0.485675</td>\n",
       "      <td>0.060758</td>\n",
       "      <td>NaN</td>\n",
       "      <td>NaN</td>\n",
       "      <td>2009</td>\n",
       "    </tr>\n",
       "    <tr>\n",
       "      <th>1</th>\n",
       "      <td>2009-09-10</td>\n",
       "      <td>2009091000</td>\n",
       "      <td>1</td>\n",
       "      <td>1</td>\n",
       "      <td>1.0</td>\n",
       "      <td>14:53</td>\n",
       "      <td>15</td>\n",
       "      <td>3593.0</td>\n",
       "      <td>7.0</td>\n",
       "      <td>PIT</td>\n",
       "      <td>...</td>\n",
       "      <td>1.146076</td>\n",
       "      <td>0.546433</td>\n",
       "      <td>0.453567</td>\n",
       "      <td>0.551088</td>\n",
       "      <td>0.448912</td>\n",
       "      <td>0.546433</td>\n",
       "      <td>0.004655</td>\n",
       "      <td>-0.032244</td>\n",
       "      <td>0.036899</td>\n",
       "      <td>2009</td>\n",
       "    </tr>\n",
       "    <tr>\n",
       "      <th>2</th>\n",
       "      <td>2009-09-10</td>\n",
       "      <td>2009091000</td>\n",
       "      <td>1</td>\n",
       "      <td>1</td>\n",
       "      <td>2.0</td>\n",
       "      <td>14:16</td>\n",
       "      <td>15</td>\n",
       "      <td>3556.0</td>\n",
       "      <td>37.0</td>\n",
       "      <td>PIT</td>\n",
       "      <td>...</td>\n",
       "      <td>NaN</td>\n",
       "      <td>0.551088</td>\n",
       "      <td>0.448912</td>\n",
       "      <td>0.510793</td>\n",
       "      <td>0.489207</td>\n",
       "      <td>0.551088</td>\n",
       "      <td>-0.040295</td>\n",
       "      <td>NaN</td>\n",
       "      <td>NaN</td>\n",
       "      <td>2009</td>\n",
       "    </tr>\n",
       "    <tr>\n",
       "      <th>3</th>\n",
       "      <td>2009-09-10</td>\n",
       "      <td>2009091000</td>\n",
       "      <td>1</td>\n",
       "      <td>1</td>\n",
       "      <td>3.0</td>\n",
       "      <td>13:35</td>\n",
       "      <td>14</td>\n",
       "      <td>3515.0</td>\n",
       "      <td>41.0</td>\n",
       "      <td>PIT</td>\n",
       "      <td>...</td>\n",
       "      <td>-5.031425</td>\n",
       "      <td>0.510793</td>\n",
       "      <td>0.489207</td>\n",
       "      <td>0.461217</td>\n",
       "      <td>0.538783</td>\n",
       "      <td>0.510793</td>\n",
       "      <td>-0.049576</td>\n",
       "      <td>0.106663</td>\n",
       "      <td>-0.156239</td>\n",
       "      <td>2009</td>\n",
       "    </tr>\n",
       "    <tr>\n",
       "      <th>4</th>\n",
       "      <td>2009-09-10</td>\n",
       "      <td>2009091000</td>\n",
       "      <td>1</td>\n",
       "      <td>1</td>\n",
       "      <td>4.0</td>\n",
       "      <td>13:27</td>\n",
       "      <td>14</td>\n",
       "      <td>3507.0</td>\n",
       "      <td>8.0</td>\n",
       "      <td>PIT</td>\n",
       "      <td>...</td>\n",
       "      <td>NaN</td>\n",
       "      <td>0.461217</td>\n",
       "      <td>0.538783</td>\n",
       "      <td>0.558929</td>\n",
       "      <td>0.441071</td>\n",
       "      <td>0.461217</td>\n",
       "      <td>0.097712</td>\n",
       "      <td>NaN</td>\n",
       "      <td>NaN</td>\n",
       "      <td>2009</td>\n",
       "    </tr>\n",
       "  </tbody>\n",
       "</table>\n",
       "<p>5 rows × 102 columns</p>\n",
       "</div>"
      ],
      "text/plain": [
       "         Date      GameID  Drive  qtr  down   time  TimeUnder  TimeSecs  \\\n",
       "0  2009-09-10  2009091000      1    1   NaN  15:00         15    3600.0   \n",
       "1  2009-09-10  2009091000      1    1   1.0  14:53         15    3593.0   \n",
       "2  2009-09-10  2009091000      1    1   2.0  14:16         15    3556.0   \n",
       "3  2009-09-10  2009091000      1    1   3.0  13:35         14    3515.0   \n",
       "4  2009-09-10  2009091000      1    1   4.0  13:27         14    3507.0   \n",
       "\n",
       "   PlayTimeDiff SideofField  ...    yacEPA  Home_WP_pre  Away_WP_pre  \\\n",
       "0           0.0         TEN  ...       NaN     0.485675     0.514325   \n",
       "1           7.0         PIT  ...  1.146076     0.546433     0.453567   \n",
       "2          37.0         PIT  ...       NaN     0.551088     0.448912   \n",
       "3          41.0         PIT  ... -5.031425     0.510793     0.489207   \n",
       "4           8.0         PIT  ...       NaN     0.461217     0.538783   \n",
       "\n",
       "   Home_WP_post  Away_WP_post  Win_Prob       WPA    airWPA    yacWPA  Season  \n",
       "0      0.546433      0.453567  0.485675  0.060758       NaN       NaN    2009  \n",
       "1      0.551088      0.448912  0.546433  0.004655 -0.032244  0.036899    2009  \n",
       "2      0.510793      0.489207  0.551088 -0.040295       NaN       NaN    2009  \n",
       "3      0.461217      0.538783  0.510793 -0.049576  0.106663 -0.156239    2009  \n",
       "4      0.558929      0.441071  0.461217  0.097712       NaN       NaN    2009  \n",
       "\n",
       "[5 rows x 102 columns]"
      ]
     },
     "execution_count": 3,
     "metadata": {},
     "output_type": "execute_result"
    }
   ],
   "source": [
    "#analyzing the top5 rows of the dataset\n",
    "nfl_data.head()"
   ]
  },
  {
   "cell_type": "code",
   "execution_count": 4,
   "id": "b40fc7e4",
   "metadata": {
    "execution": {
     "iopub.execute_input": "2022-05-19T05:29:24.305028Z",
     "iopub.status.busy": "2022-05-19T05:29:24.304260Z",
     "iopub.status.idle": "2022-05-19T05:29:24.915331Z",
     "shell.execute_reply": "2022-05-19T05:29:24.913664Z"
    },
    "papermill": {
     "duration": 0.638195,
     "end_time": "2022-05-19T05:29:24.919444",
     "exception": false,
     "start_time": "2022-05-19T05:29:24.281249",
     "status": "completed"
    },
    "tags": []
   },
   "outputs": [
    {
     "name": "stdout",
     "output_type": "stream",
     "text": [
      "Date             0\n",
      "GameID           0\n",
      "Drive            0\n",
      "qtr              0\n",
      "down         61154\n",
      "             ...  \n",
      "Win_Prob     25009\n",
      "WPA           5541\n",
      "airWPA      248501\n",
      "yacWPA      248762\n",
      "Season           0\n",
      "Length: 102, dtype: int64\n",
      "********************************\n"
     ]
    }
   ],
   "source": [
    "#finding missing value in the data\n",
    "missing_value_count=nfl_data.isnull().sum()\n",
    "print(missing_value_count)\n",
    "\n",
    "print(\"********************************\")\n",
    "\n"
   ]
  },
  {
   "cell_type": "code",
   "execution_count": 5,
   "id": "e07d297c",
   "metadata": {
    "execution": {
     "iopub.execute_input": "2022-05-19T05:29:24.964364Z",
     "iopub.status.busy": "2022-05-19T05:29:24.963421Z",
     "iopub.status.idle": "2022-05-19T05:29:24.971456Z",
     "shell.execute_reply": "2022-05-19T05:29:24.970452Z"
    },
    "papermill": {
     "duration": 0.032886,
     "end_time": "2022-05-19T05:29:24.973491",
     "exception": false,
     "start_time": "2022-05-19T05:29:24.940605",
     "status": "completed"
    },
    "tags": []
   },
   "outputs": [
    {
     "data": {
      "text/plain": [
       "Date                0\n",
       "GameID              0\n",
       "Drive               0\n",
       "qtr                 0\n",
       "down            61154\n",
       "time              224\n",
       "TimeUnder           0\n",
       "TimeSecs          224\n",
       "PlayTimeDiff      444\n",
       "SideofField       528\n",
       "dtype: int64"
      ]
     },
     "execution_count": 5,
     "metadata": {},
     "output_type": "execute_result"
    }
   ],
   "source": [
    "#missing value count by columns first 10 column as mentioned in the index \n",
    "#[0:10]\n",
    "missing_value_count[0:10]"
   ]
  },
  {
   "cell_type": "code",
   "execution_count": 6,
   "id": "aba84df4",
   "metadata": {
    "execution": {
     "iopub.execute_input": "2022-05-19T05:29:25.018216Z",
     "iopub.status.busy": "2022-05-19T05:29:25.016545Z",
     "iopub.status.idle": "2022-05-19T05:29:25.023867Z",
     "shell.execute_reply": "2022-05-19T05:29:25.023222Z"
    },
    "papermill": {
     "duration": 0.032297,
     "end_time": "2022-05-19T05:29:25.025726",
     "exception": false,
     "start_time": "2022-05-19T05:29:24.993429",
     "status": "completed"
    },
    "tags": []
   },
   "outputs": [
    {
     "name": "stdout",
     "output_type": "stream",
     "text": [
      "return rows and column of the dataframe\n",
      "(407688, 102)\n"
     ]
    }
   ],
   "source": [
    "no_of_rows_columns=nfl_data.shape\n",
    "'''\n",
    "pandas.DataFrame.shape\n",
    "Return a tuple representing the dimensionality of the DataFrame.\n",
    "'''\n",
    "print(\"return rows and column of the dataframe\")\n",
    "print(no_of_rows_columns)"
   ]
  },
  {
   "cell_type": "code",
   "execution_count": 7,
   "id": "370cefb5",
   "metadata": {
    "execution": {
     "iopub.execute_input": "2022-05-19T05:29:25.069349Z",
     "iopub.status.busy": "2022-05-19T05:29:25.069041Z",
     "iopub.status.idle": "2022-05-19T05:29:25.074803Z",
     "shell.execute_reply": "2022-05-19T05:29:25.074141Z"
    },
    "papermill": {
     "duration": 0.03089,
     "end_time": "2022-05-19T05:29:25.076918",
     "exception": false,
     "start_time": "2022-05-19T05:29:25.046028",
     "status": "completed"
    },
    "tags": []
   },
   "outputs": [
    {
     "name": "stdout",
     "output_type": "stream",
     "text": [
      "total_cells *****  41584176\n",
      "total_missing *****  10342875\n"
     ]
    }
   ],
   "source": [
    "# number cells in a dataframe is equal to rows X columns\n",
    "total_cells=np.product(no_of_rows_columns)\n",
    "print(\"total_cells ***** \",total_cells)\n",
    "#missing_values_count was giving us missing values by columns\n",
    "#total_missing giving us the total cells in the dataframe with missing values\n",
    "#A.K.A sum of missing_values_count\n",
    "total_missing = missing_value_count.sum()\n",
    "print(\"total_missing ***** \",total_missing)"
   ]
  },
  {
   "cell_type": "code",
   "execution_count": 8,
   "id": "3cf975a7",
   "metadata": {
    "execution": {
     "iopub.execute_input": "2022-05-19T05:29:25.121085Z",
     "iopub.status.busy": "2022-05-19T05:29:25.120111Z",
     "iopub.status.idle": "2022-05-19T05:29:25.128059Z",
     "shell.execute_reply": "2022-05-19T05:29:25.126948Z"
    },
    "papermill": {
     "duration": 0.032215,
     "end_time": "2022-05-19T05:29:25.129740",
     "exception": false,
     "start_time": "2022-05-19T05:29:25.097525",
     "status": "completed"
    },
    "tags": []
   },
   "outputs": [
    {
     "name": "stdout",
     "output_type": "stream",
     "text": [
      "percent_missing ******  24.87214126835169\n"
     ]
    },
    {
     "data": {
      "text/plain": [
       "'\\nFigure out this\\nFormating tips:\\nUse str.format() to format a number as a percentage\\nPass a number into str.format() with \"{:.0%}\" as str to format the number as a percentage.\\na_number = 0.20\\npercentage = \"{:.0%}\".format(a_number)\\nprint(percentage)\\nOutput would be like this 20%\\n\\nTo include a specific number of decimal places, use \"{:.n%}\", where n is the desired number of decimal places.\\na_number = 1 / 3\\npercentage = \"{:.2%}\".format(a_number)\\nprint(percentage)\\nOutput would be this 33.33%\\n'"
      ]
     },
     "execution_count": 8,
     "metadata": {},
     "output_type": "execute_result"
    }
   ],
   "source": [
    "# percent of data that is missing\n",
    "percent_missing= (total_missing/total_cells) * 100\n",
    "print(\"percent_missing ****** \",percent_missing)\n",
    "'''\n",
    "Figure out this\n",
    "Formating tips:\n",
    "Use str.format() to format a number as a percentage\n",
    "Pass a number into str.format() with \"{:.0%}\" as str to format the number as a percentage.\n",
    "a_number = 0.20\n",
    "percentage = \"{:.0%}\".format(a_number)\n",
    "print(percentage)\n",
    "Output would be like this 20%\n",
    "\n",
    "To include a specific number of decimal places, use \"{:.n%}\", where n is the desired number of decimal places.\n",
    "a_number = 1 / 3\n",
    "percentage = \"{:.2%}\".format(a_number)\n",
    "print(percentage)\n",
    "Output would be this 33.33%\n",
    "'''"
   ]
  },
  {
   "cell_type": "code",
   "execution_count": 9,
   "id": "8b596f70",
   "metadata": {
    "execution": {
     "iopub.execute_input": "2022-05-19T05:29:25.176560Z",
     "iopub.status.busy": "2022-05-19T05:29:25.175908Z",
     "iopub.status.idle": "2022-05-19T05:29:25.181002Z",
     "shell.execute_reply": "2022-05-19T05:29:25.180447Z"
    },
    "papermill": {
     "duration": 0.029632,
     "end_time": "2022-05-19T05:29:25.182699",
     "exception": false,
     "start_time": "2022-05-19T05:29:25.153067",
     "status": "completed"
    },
    "tags": []
   },
   "outputs": [
    {
     "data": {
      "text/plain": [
       "\"\\nrun this code by uncommenting it\\nIf you're sure you want to drop rows with missing values, \\npandas does have a handy function, dropna() to help you do this. \\nLet's try it out on our NFL dataset!\\nnfl_data.dropna()\\n\""
      ]
     },
     "execution_count": 9,
     "metadata": {},
     "output_type": "execute_result"
    }
   ],
   "source": [
    "'''\n",
    "run this code by uncommenting it\n",
    "If you're sure you want to drop rows with missing values, \n",
    "pandas does have a handy function, dropna() to help you do this. \n",
    "Let's try it out on our NFL dataset!\n",
    "nfl_data.dropna()\n",
    "'''"
   ]
  },
  {
   "cell_type": "code",
   "execution_count": 10,
   "id": "c302ddec",
   "metadata": {
    "execution": {
     "iopub.execute_input": "2022-05-19T05:29:25.229750Z",
     "iopub.status.busy": "2022-05-19T05:29:25.228910Z",
     "iopub.status.idle": "2022-05-19T05:29:25.234526Z",
     "shell.execute_reply": "2022-05-19T05:29:25.233287Z"
    },
    "papermill": {
     "duration": 0.031339,
     "end_time": "2022-05-19T05:29:25.236800",
     "exception": false,
     "start_time": "2022-05-19T05:29:25.205461",
     "status": "completed"
    },
    "tags": []
   },
   "outputs": [
    {
     "name": "stdout",
     "output_type": "stream",
     "text": [
      "\n",
      "^^^^^^^^^^^^^^^^^^^^^^^^^^^^^^^^^^^^^^^^^^^^^^^^^^^^^^^^^^^^^^^^^^^^^^^^^^^^^^^^^^^^^^^^^^^^^^^\n",
      "Oh dear, it looks like that's removed all our data! 😱 \n",
      "This is because every row in our dataset had at least one missing value. \n",
      "We might have better luck removing all the columns that have at least one missing value instead.\n",
      "^^^^^^^^^^^^^^^^^^^^^^^^^^^^^^^^^^^^^^^^^^^^^^^^^^^^^^^^^^^^^^^^^^^^^^^^^^^^^^^^^^^^^^^^^^^^^^^^\n",
      "\n"
     ]
    }
   ],
   "source": [
    "print('''\n",
    "^^^^^^^^^^^^^^^^^^^^^^^^^^^^^^^^^^^^^^^^^^^^^^^^^^^^^^^^^^^^^^^^^^^^^^^^^^^^^^^^^^^^^^^^^^^^^^^\n",
    "Oh dear, it looks like that's removed all our data! 😱 \n",
    "This is because every row in our dataset had at least one missing value. \n",
    "We might have better luck removing all the columns that have at least one missing value instead.\n",
    "^^^^^^^^^^^^^^^^^^^^^^^^^^^^^^^^^^^^^^^^^^^^^^^^^^^^^^^^^^^^^^^^^^^^^^^^^^^^^^^^^^^^^^^^^^^^^^^^\n",
    "''')"
   ]
  },
  {
   "cell_type": "code",
   "execution_count": 11,
   "id": "c67cd420",
   "metadata": {
    "execution": {
     "iopub.execute_input": "2022-05-19T05:29:25.287341Z",
     "iopub.status.busy": "2022-05-19T05:29:25.286742Z",
     "iopub.status.idle": "2022-05-19T05:29:25.291911Z",
     "shell.execute_reply": "2022-05-19T05:29:25.290538Z"
    },
    "papermill": {
     "duration": 0.033176,
     "end_time": "2022-05-19T05:29:25.294227",
     "exception": false,
     "start_time": "2022-05-19T05:29:25.261051",
     "status": "completed"
    },
    "tags": []
   },
   "outputs": [
    {
     "name": "stdout",
     "output_type": "stream",
     "text": [
      "\n",
      "****>> Do not worry just comment the above code or delete it and re run the whole code <<****\n",
      "\n"
     ]
    }
   ],
   "source": [
    "print('''\n",
    "****>> Do not worry just comment the above code or delete it and re run the whole code <<****\n",
    "''')"
   ]
  },
  {
   "cell_type": "code",
   "execution_count": 12,
   "id": "9e834f2a",
   "metadata": {
    "execution": {
     "iopub.execute_input": "2022-05-19T05:29:25.344190Z",
     "iopub.status.busy": "2022-05-19T05:29:25.343635Z",
     "iopub.status.idle": "2022-05-19T05:29:26.034510Z",
     "shell.execute_reply": "2022-05-19T05:29:26.033507Z"
    },
    "papermill": {
     "duration": 0.718936,
     "end_time": "2022-05-19T05:29:26.037031",
     "exception": false,
     "start_time": "2022-05-19T05:29:25.318095",
     "status": "completed"
    },
    "tags": []
   },
   "outputs": [
    {
     "data": {
      "text/plain": [
       "'\\n DataFrame.head(n=5)[source]\\n\\n    Return the first n rows.\\n\\n    This function returns the first n rows for the object based on position. \\n    It is useful for quickly testing if your object has the right type of data in it.\\n\\n    For negative values of n, \\n    this function returns all rows except the last n rows, equivalent to df[:-n].\\n\\n    Parameters\\n\\n        nint, default 5\\n\\n            Number of rows to select.\\n\\n    Returns\\n\\n        same type as caller\\n\\n            The first n rows of the caller object.\\n\\n\\n'"
      ]
     },
     "execution_count": 12,
     "metadata": {},
     "output_type": "execute_result"
    }
   ],
   "source": [
    "# remove all columns with at least one missing value\n",
    "columns_with_na_dropped = nfl_data.dropna(axis=1)\n",
    "# axis=1 for Drop columns which contain missing value.\n",
    "# see below for complete guide for dropna()\n",
    "\n",
    "'''\n",
    "Explanation to this w.r.t Pandas official documentation:\n",
    "\n",
    "pandas.DataFrame.dropna\n",
    "\n",
    "DataFrame.dropna(axis=0, how='any', thresh=None, subset=None, inplace=False)[source]\n",
    "\n",
    "    Remove missing values.\n",
    "\n",
    "    See the User Guide for more on which values are considered missing, and how to work with missing data.\n",
    "\n",
    "    Parameters\n",
    "\n",
    "        axis{0 or ‘index’, 1 or ‘columns’}, default 0\n",
    "\n",
    "            Determine if rows or columns which contain missing values are removed.\n",
    "\n",
    "                0, or ‘index’ : Drop rows which contain missing values.\n",
    "\n",
    "                1, or ‘columns’ : Drop columns which contain missing value.\n",
    "\n",
    "            Changed in version 1.0.0: Pass tuple or list to drop on multiple axes. Only a single axis is allowed.\n",
    "        how{‘any’, ‘all’}, default ‘any’\n",
    "\n",
    "            Determine if row or column is removed from DataFrame, when we have at least one NA or all NA.\n",
    "\n",
    "                ‘any’ : If any NA values are present, drop that row or column.\n",
    "\n",
    "                ‘all’ : If all values are NA, drop that row or column.\n",
    "\n",
    "        threshint, optional\n",
    "\n",
    "            Require that many non-NA values.\n",
    "        subsetcolumn label or sequence of labels, optional\n",
    "\n",
    "            Labels along other axis to consider, e.g. if you are dropping rows these would be a list of columns to include.\n",
    "        inplacebool, default False\n",
    "\n",
    "            If True, do operation inplace and return None.\n",
    "\n",
    "    Returns\n",
    "\n",
    "        DataFrame or None\n",
    "\n",
    "            DataFrame with NA entries dropped from it or None if inplace=True.\n",
    "\n",
    "Ref URL\n",
    "https://pandas.pydata.org/docs/reference/api/pandas.DataFrame.dropna.html\n",
    "\n",
    "\n",
    "See also\n",
    "\n",
    "DataFrame.isna for       Indicate missing values.\n",
    "DataFrame.notna for      Indicate existing (non-missing) values.\n",
    "DataFrame.fillna for     Replace missing values.\n",
    "Series.dropna for        Drop missing values.\n",
    "Index.dropna for         Drop missing indices.\n",
    "\n",
    "\n",
    "'''\n",
    "#This function returns the first n rows for the object based on position.\n",
    "#It is useful for quickly testing if your object has the right type of data in it.\n",
    "columns_with_na_dropped.head()\n",
    "'''\n",
    " DataFrame.head(n=5)[source]\n",
    "\n",
    "    Return the first n rows.\n",
    "\n",
    "    This function returns the first n rows for the object based on position. \n",
    "    It is useful for quickly testing if your object has the right type of data in it.\n",
    "\n",
    "    For negative values of n, \n",
    "    this function returns all rows except the last n rows, equivalent to df[:-n].\n",
    "\n",
    "    Parameters\n",
    "\n",
    "        nint, default 5\n",
    "\n",
    "            Number of rows to select.\n",
    "\n",
    "    Returns\n",
    "\n",
    "        same type as caller\n",
    "\n",
    "            The first n rows of the caller object.\n",
    "\n",
    "\n",
    "'''\n"
   ]
  },
  {
   "cell_type": "code",
   "execution_count": 13,
   "id": "8eb5560b",
   "metadata": {
    "execution": {
     "iopub.execute_input": "2022-05-19T05:29:26.090545Z",
     "iopub.status.busy": "2022-05-19T05:29:26.089653Z",
     "iopub.status.idle": "2022-05-19T05:29:26.805382Z",
     "shell.execute_reply": "2022-05-19T05:29:26.804409Z"
    },
    "papermill": {
     "duration": 0.743896,
     "end_time": "2022-05-19T05:29:26.807618",
     "exception": false,
     "start_time": "2022-05-19T05:29:26.063722",
     "status": "completed"
    },
    "tags": []
   },
   "outputs": [
    {
     "name": "stdout",
     "output_type": "stream",
     "text": [
      "The output of the above\n"
     ]
    },
    {
     "data": {
      "text/html": [
       "<div>\n",
       "<style scoped>\n",
       "    .dataframe tbody tr th:only-of-type {\n",
       "        vertical-align: middle;\n",
       "    }\n",
       "\n",
       "    .dataframe tbody tr th {\n",
       "        vertical-align: top;\n",
       "    }\n",
       "\n",
       "    .dataframe thead th {\n",
       "        text-align: right;\n",
       "    }\n",
       "</style>\n",
       "<table border=\"1\" class=\"dataframe\">\n",
       "  <thead>\n",
       "    <tr style=\"text-align: right;\">\n",
       "      <th></th>\n",
       "      <th>Date</th>\n",
       "      <th>GameID</th>\n",
       "      <th>Drive</th>\n",
       "      <th>qtr</th>\n",
       "      <th>TimeUnder</th>\n",
       "      <th>ydstogo</th>\n",
       "      <th>ydsnet</th>\n",
       "      <th>PlayAttempted</th>\n",
       "      <th>Yards.Gained</th>\n",
       "      <th>sp</th>\n",
       "      <th>...</th>\n",
       "      <th>Timeout_Indicator</th>\n",
       "      <th>Timeout_Team</th>\n",
       "      <th>posteam_timeouts_pre</th>\n",
       "      <th>HomeTimeouts_Remaining_Pre</th>\n",
       "      <th>AwayTimeouts_Remaining_Pre</th>\n",
       "      <th>HomeTimeouts_Remaining_Post</th>\n",
       "      <th>AwayTimeouts_Remaining_Post</th>\n",
       "      <th>ExPoint_Prob</th>\n",
       "      <th>TwoPoint_Prob</th>\n",
       "      <th>Season</th>\n",
       "    </tr>\n",
       "  </thead>\n",
       "  <tbody>\n",
       "    <tr>\n",
       "      <th>0</th>\n",
       "      <td>2009-09-10</td>\n",
       "      <td>2009091000</td>\n",
       "      <td>1</td>\n",
       "      <td>1</td>\n",
       "      <td>15</td>\n",
       "      <td>0</td>\n",
       "      <td>0</td>\n",
       "      <td>1</td>\n",
       "      <td>39</td>\n",
       "      <td>0</td>\n",
       "      <td>...</td>\n",
       "      <td>0</td>\n",
       "      <td>None</td>\n",
       "      <td>3</td>\n",
       "      <td>3</td>\n",
       "      <td>3</td>\n",
       "      <td>3</td>\n",
       "      <td>3</td>\n",
       "      <td>0.0</td>\n",
       "      <td>0.0</td>\n",
       "      <td>2009</td>\n",
       "    </tr>\n",
       "    <tr>\n",
       "      <th>1</th>\n",
       "      <td>2009-09-10</td>\n",
       "      <td>2009091000</td>\n",
       "      <td>1</td>\n",
       "      <td>1</td>\n",
       "      <td>15</td>\n",
       "      <td>10</td>\n",
       "      <td>5</td>\n",
       "      <td>1</td>\n",
       "      <td>5</td>\n",
       "      <td>0</td>\n",
       "      <td>...</td>\n",
       "      <td>0</td>\n",
       "      <td>None</td>\n",
       "      <td>3</td>\n",
       "      <td>3</td>\n",
       "      <td>3</td>\n",
       "      <td>3</td>\n",
       "      <td>3</td>\n",
       "      <td>0.0</td>\n",
       "      <td>0.0</td>\n",
       "      <td>2009</td>\n",
       "    </tr>\n",
       "    <tr>\n",
       "      <th>2</th>\n",
       "      <td>2009-09-10</td>\n",
       "      <td>2009091000</td>\n",
       "      <td>1</td>\n",
       "      <td>1</td>\n",
       "      <td>15</td>\n",
       "      <td>5</td>\n",
       "      <td>2</td>\n",
       "      <td>1</td>\n",
       "      <td>-3</td>\n",
       "      <td>0</td>\n",
       "      <td>...</td>\n",
       "      <td>0</td>\n",
       "      <td>None</td>\n",
       "      <td>3</td>\n",
       "      <td>3</td>\n",
       "      <td>3</td>\n",
       "      <td>3</td>\n",
       "      <td>3</td>\n",
       "      <td>0.0</td>\n",
       "      <td>0.0</td>\n",
       "      <td>2009</td>\n",
       "    </tr>\n",
       "    <tr>\n",
       "      <th>3</th>\n",
       "      <td>2009-09-10</td>\n",
       "      <td>2009091000</td>\n",
       "      <td>1</td>\n",
       "      <td>1</td>\n",
       "      <td>14</td>\n",
       "      <td>8</td>\n",
       "      <td>2</td>\n",
       "      <td>1</td>\n",
       "      <td>0</td>\n",
       "      <td>0</td>\n",
       "      <td>...</td>\n",
       "      <td>0</td>\n",
       "      <td>None</td>\n",
       "      <td>3</td>\n",
       "      <td>3</td>\n",
       "      <td>3</td>\n",
       "      <td>3</td>\n",
       "      <td>3</td>\n",
       "      <td>0.0</td>\n",
       "      <td>0.0</td>\n",
       "      <td>2009</td>\n",
       "    </tr>\n",
       "    <tr>\n",
       "      <th>4</th>\n",
       "      <td>2009-09-10</td>\n",
       "      <td>2009091000</td>\n",
       "      <td>1</td>\n",
       "      <td>1</td>\n",
       "      <td>14</td>\n",
       "      <td>8</td>\n",
       "      <td>2</td>\n",
       "      <td>1</td>\n",
       "      <td>0</td>\n",
       "      <td>0</td>\n",
       "      <td>...</td>\n",
       "      <td>0</td>\n",
       "      <td>None</td>\n",
       "      <td>3</td>\n",
       "      <td>3</td>\n",
       "      <td>3</td>\n",
       "      <td>3</td>\n",
       "      <td>3</td>\n",
       "      <td>0.0</td>\n",
       "      <td>0.0</td>\n",
       "      <td>2009</td>\n",
       "    </tr>\n",
       "  </tbody>\n",
       "</table>\n",
       "<p>5 rows × 41 columns</p>\n",
       "</div>"
      ],
      "text/plain": [
       "         Date      GameID  Drive  qtr  TimeUnder  ydstogo  ydsnet  \\\n",
       "0  2009-09-10  2009091000      1    1         15        0       0   \n",
       "1  2009-09-10  2009091000      1    1         15       10       5   \n",
       "2  2009-09-10  2009091000      1    1         15        5       2   \n",
       "3  2009-09-10  2009091000      1    1         14        8       2   \n",
       "4  2009-09-10  2009091000      1    1         14        8       2   \n",
       "\n",
       "   PlayAttempted  Yards.Gained  sp  ...  Timeout_Indicator  Timeout_Team  \\\n",
       "0              1            39   0  ...                  0          None   \n",
       "1              1             5   0  ...                  0          None   \n",
       "2              1            -3   0  ...                  0          None   \n",
       "3              1             0   0  ...                  0          None   \n",
       "4              1             0   0  ...                  0          None   \n",
       "\n",
       "   posteam_timeouts_pre HomeTimeouts_Remaining_Pre AwayTimeouts_Remaining_Pre  \\\n",
       "0                     3                          3                          3   \n",
       "1                     3                          3                          3   \n",
       "2                     3                          3                          3   \n",
       "3                     3                          3                          3   \n",
       "4                     3                          3                          3   \n",
       "\n",
       "   HomeTimeouts_Remaining_Post  AwayTimeouts_Remaining_Post  ExPoint_Prob  \\\n",
       "0                            3                            3           0.0   \n",
       "1                            3                            3           0.0   \n",
       "2                            3                            3           0.0   \n",
       "3                            3                            3           0.0   \n",
       "4                            3                            3           0.0   \n",
       "\n",
       "   TwoPoint_Prob  Season  \n",
       "0            0.0    2009  \n",
       "1            0.0    2009  \n",
       "2            0.0    2009  \n",
       "3            0.0    2009  \n",
       "4            0.0    2009  \n",
       "\n",
       "[5 rows x 41 columns]"
      ]
     },
     "execution_count": 13,
     "metadata": {},
     "output_type": "execute_result"
    }
   ],
   "source": [
    "print(\"The output of the above\")\n",
    "# remove all columns with at least one missing value\n",
    "columns_with_na_dropped = nfl_data.dropna(axis=1)\n",
    "columns_with_na_dropped.head()"
   ]
  },
  {
   "cell_type": "code",
   "execution_count": 14,
   "id": "c24f61c9",
   "metadata": {
    "execution": {
     "iopub.execute_input": "2022-05-19T05:29:26.859667Z",
     "iopub.status.busy": "2022-05-19T05:29:26.858888Z",
     "iopub.status.idle": "2022-05-19T05:29:26.866613Z",
     "shell.execute_reply": "2022-05-19T05:29:26.865668Z"
    },
    "papermill": {
     "duration": 0.035881,
     "end_time": "2022-05-19T05:29:26.868900",
     "exception": false,
     "start_time": "2022-05-19T05:29:26.833019",
     "status": "completed"
    },
    "tags": []
   },
   "outputs": [
    {
     "name": "stdout",
     "output_type": "stream",
     "text": [
      "Columns in original dataset: 102 \n",
      "\n",
      "Columns with na's dropped: 41\n",
      "We've lost quite a bit of data, \n",
      "         but at this point we have successfully removed all the NaN's from our data.\n"
     ]
    }
   ],
   "source": [
    "# just how much data did we lose?\n",
    "print(\"Columns in original dataset: %d \\n\" % nfl_data.shape[1])\n",
    "print(\"Columns with na's dropped: %d\" % columns_with_na_dropped.shape[1])\n",
    "print('''We've lost quite a bit of data, \n",
    "         but at this point we have successfully removed all the NaN's from our data.''')"
   ]
  },
  {
   "cell_type": "code",
   "execution_count": 15,
   "id": "dd2aa8d1",
   "metadata": {
    "execution": {
     "iopub.execute_input": "2022-05-19T05:29:26.921808Z",
     "iopub.status.busy": "2022-05-19T05:29:26.921400Z",
     "iopub.status.idle": "2022-05-19T05:29:26.951357Z",
     "shell.execute_reply": "2022-05-19T05:29:26.950428Z"
    },
    "papermill": {
     "duration": 0.058962,
     "end_time": "2022-05-19T05:29:26.953312",
     "exception": false,
     "start_time": "2022-05-19T05:29:26.894350",
     "status": "completed"
    },
    "tags": []
   },
   "outputs": [
    {
     "data": {
      "text/html": [
       "<div>\n",
       "<style scoped>\n",
       "    .dataframe tbody tr th:only-of-type {\n",
       "        vertical-align: middle;\n",
       "    }\n",
       "\n",
       "    .dataframe tbody tr th {\n",
       "        vertical-align: top;\n",
       "    }\n",
       "\n",
       "    .dataframe thead th {\n",
       "        text-align: right;\n",
       "    }\n",
       "</style>\n",
       "<table border=\"1\" class=\"dataframe\">\n",
       "  <thead>\n",
       "    <tr style=\"text-align: right;\">\n",
       "      <th></th>\n",
       "      <th>EPA</th>\n",
       "      <th>airEPA</th>\n",
       "      <th>yacEPA</th>\n",
       "      <th>Home_WP_pre</th>\n",
       "      <th>Away_WP_pre</th>\n",
       "      <th>Home_WP_post</th>\n",
       "      <th>Away_WP_post</th>\n",
       "      <th>Win_Prob</th>\n",
       "      <th>WPA</th>\n",
       "      <th>airWPA</th>\n",
       "      <th>yacWPA</th>\n",
       "      <th>Season</th>\n",
       "    </tr>\n",
       "  </thead>\n",
       "  <tbody>\n",
       "    <tr>\n",
       "      <th>0</th>\n",
       "      <td>2.014474</td>\n",
       "      <td>NaN</td>\n",
       "      <td>NaN</td>\n",
       "      <td>0.485675</td>\n",
       "      <td>0.514325</td>\n",
       "      <td>0.546433</td>\n",
       "      <td>0.453567</td>\n",
       "      <td>0.485675</td>\n",
       "      <td>0.060758</td>\n",
       "      <td>NaN</td>\n",
       "      <td>NaN</td>\n",
       "      <td>2009</td>\n",
       "    </tr>\n",
       "    <tr>\n",
       "      <th>1</th>\n",
       "      <td>0.077907</td>\n",
       "      <td>-1.068169</td>\n",
       "      <td>1.146076</td>\n",
       "      <td>0.546433</td>\n",
       "      <td>0.453567</td>\n",
       "      <td>0.551088</td>\n",
       "      <td>0.448912</td>\n",
       "      <td>0.546433</td>\n",
       "      <td>0.004655</td>\n",
       "      <td>-0.032244</td>\n",
       "      <td>0.036899</td>\n",
       "      <td>2009</td>\n",
       "    </tr>\n",
       "    <tr>\n",
       "      <th>2</th>\n",
       "      <td>-1.402760</td>\n",
       "      <td>NaN</td>\n",
       "      <td>NaN</td>\n",
       "      <td>0.551088</td>\n",
       "      <td>0.448912</td>\n",
       "      <td>0.510793</td>\n",
       "      <td>0.489207</td>\n",
       "      <td>0.551088</td>\n",
       "      <td>-0.040295</td>\n",
       "      <td>NaN</td>\n",
       "      <td>NaN</td>\n",
       "      <td>2009</td>\n",
       "    </tr>\n",
       "    <tr>\n",
       "      <th>3</th>\n",
       "      <td>-1.712583</td>\n",
       "      <td>3.318841</td>\n",
       "      <td>-5.031425</td>\n",
       "      <td>0.510793</td>\n",
       "      <td>0.489207</td>\n",
       "      <td>0.461217</td>\n",
       "      <td>0.538783</td>\n",
       "      <td>0.510793</td>\n",
       "      <td>-0.049576</td>\n",
       "      <td>0.106663</td>\n",
       "      <td>-0.156239</td>\n",
       "      <td>2009</td>\n",
       "    </tr>\n",
       "    <tr>\n",
       "      <th>4</th>\n",
       "      <td>2.097796</td>\n",
       "      <td>NaN</td>\n",
       "      <td>NaN</td>\n",
       "      <td>0.461217</td>\n",
       "      <td>0.538783</td>\n",
       "      <td>0.558929</td>\n",
       "      <td>0.441071</td>\n",
       "      <td>0.461217</td>\n",
       "      <td>0.097712</td>\n",
       "      <td>NaN</td>\n",
       "      <td>NaN</td>\n",
       "      <td>2009</td>\n",
       "    </tr>\n",
       "  </tbody>\n",
       "</table>\n",
       "</div>"
      ],
      "text/plain": [
       "        EPA    airEPA    yacEPA  Home_WP_pre  Away_WP_pre  Home_WP_post  \\\n",
       "0  2.014474       NaN       NaN     0.485675     0.514325      0.546433   \n",
       "1  0.077907 -1.068169  1.146076     0.546433     0.453567      0.551088   \n",
       "2 -1.402760       NaN       NaN     0.551088     0.448912      0.510793   \n",
       "3 -1.712583  3.318841 -5.031425     0.510793     0.489207      0.461217   \n",
       "4  2.097796       NaN       NaN     0.461217     0.538783      0.558929   \n",
       "\n",
       "   Away_WP_post  Win_Prob       WPA    airWPA    yacWPA  Season  \n",
       "0      0.453567  0.485675  0.060758       NaN       NaN    2009  \n",
       "1      0.448912  0.546433  0.004655 -0.032244  0.036899    2009  \n",
       "2      0.489207  0.551088 -0.040295       NaN       NaN    2009  \n",
       "3      0.538783  0.510793 -0.049576  0.106663 -0.156239    2009  \n",
       "4      0.441071  0.461217  0.097712       NaN       NaN    2009  "
      ]
     },
     "execution_count": 15,
     "metadata": {},
     "output_type": "execute_result"
    }
   ],
   "source": [
    "#Filling in missing values automatically\n",
    "\n",
    "#Another option is to try and fill in the missing values. \n",
    "#For this next bit, I'm getting a small sub-section of the NFL data so that it will print well.\n",
    "\n",
    "# get a small subset of the NFL dataset\n",
    "subset_nfl_data = nfl_data.loc[:, 'EPA':'Season'].head()\n",
    "subset_nfl_data"
   ]
  },
  {
   "cell_type": "code",
   "execution_count": 16,
   "id": "d0bd15a2",
   "metadata": {
    "execution": {
     "iopub.execute_input": "2022-05-19T05:29:27.005254Z",
     "iopub.status.busy": "2022-05-19T05:29:27.004784Z",
     "iopub.status.idle": "2022-05-19T05:29:27.020583Z",
     "shell.execute_reply": "2022-05-19T05:29:27.019852Z"
    },
    "papermill": {
     "duration": 0.043625,
     "end_time": "2022-05-19T05:29:27.022581",
     "exception": false,
     "start_time": "2022-05-19T05:29:26.978956",
     "status": "completed"
    },
    "tags": []
   },
   "outputs": [
    {
     "data": {
      "text/html": [
       "<div>\n",
       "<style scoped>\n",
       "    .dataframe tbody tr th:only-of-type {\n",
       "        vertical-align: middle;\n",
       "    }\n",
       "\n",
       "    .dataframe tbody tr th {\n",
       "        vertical-align: top;\n",
       "    }\n",
       "\n",
       "    .dataframe thead th {\n",
       "        text-align: right;\n",
       "    }\n",
       "</style>\n",
       "<table border=\"1\" class=\"dataframe\">\n",
       "  <thead>\n",
       "    <tr style=\"text-align: right;\">\n",
       "      <th></th>\n",
       "      <th>EPA</th>\n",
       "      <th>airEPA</th>\n",
       "      <th>yacEPA</th>\n",
       "      <th>Home_WP_pre</th>\n",
       "      <th>Away_WP_pre</th>\n",
       "      <th>Home_WP_post</th>\n",
       "      <th>Away_WP_post</th>\n",
       "      <th>Win_Prob</th>\n",
       "      <th>WPA</th>\n",
       "      <th>airWPA</th>\n",
       "      <th>yacWPA</th>\n",
       "      <th>Season</th>\n",
       "    </tr>\n",
       "  </thead>\n",
       "  <tbody>\n",
       "    <tr>\n",
       "      <th>0</th>\n",
       "      <td>2.014474</td>\n",
       "      <td>0.000000</td>\n",
       "      <td>0.000000</td>\n",
       "      <td>0.485675</td>\n",
       "      <td>0.514325</td>\n",
       "      <td>0.546433</td>\n",
       "      <td>0.453567</td>\n",
       "      <td>0.485675</td>\n",
       "      <td>0.060758</td>\n",
       "      <td>0.000000</td>\n",
       "      <td>0.000000</td>\n",
       "      <td>2009</td>\n",
       "    </tr>\n",
       "    <tr>\n",
       "      <th>1</th>\n",
       "      <td>0.077907</td>\n",
       "      <td>-1.068169</td>\n",
       "      <td>1.146076</td>\n",
       "      <td>0.546433</td>\n",
       "      <td>0.453567</td>\n",
       "      <td>0.551088</td>\n",
       "      <td>0.448912</td>\n",
       "      <td>0.546433</td>\n",
       "      <td>0.004655</td>\n",
       "      <td>-0.032244</td>\n",
       "      <td>0.036899</td>\n",
       "      <td>2009</td>\n",
       "    </tr>\n",
       "    <tr>\n",
       "      <th>2</th>\n",
       "      <td>-1.402760</td>\n",
       "      <td>0.000000</td>\n",
       "      <td>0.000000</td>\n",
       "      <td>0.551088</td>\n",
       "      <td>0.448912</td>\n",
       "      <td>0.510793</td>\n",
       "      <td>0.489207</td>\n",
       "      <td>0.551088</td>\n",
       "      <td>-0.040295</td>\n",
       "      <td>0.000000</td>\n",
       "      <td>0.000000</td>\n",
       "      <td>2009</td>\n",
       "    </tr>\n",
       "    <tr>\n",
       "      <th>3</th>\n",
       "      <td>-1.712583</td>\n",
       "      <td>3.318841</td>\n",
       "      <td>-5.031425</td>\n",
       "      <td>0.510793</td>\n",
       "      <td>0.489207</td>\n",
       "      <td>0.461217</td>\n",
       "      <td>0.538783</td>\n",
       "      <td>0.510793</td>\n",
       "      <td>-0.049576</td>\n",
       "      <td>0.106663</td>\n",
       "      <td>-0.156239</td>\n",
       "      <td>2009</td>\n",
       "    </tr>\n",
       "    <tr>\n",
       "      <th>4</th>\n",
       "      <td>2.097796</td>\n",
       "      <td>0.000000</td>\n",
       "      <td>0.000000</td>\n",
       "      <td>0.461217</td>\n",
       "      <td>0.538783</td>\n",
       "      <td>0.558929</td>\n",
       "      <td>0.441071</td>\n",
       "      <td>0.461217</td>\n",
       "      <td>0.097712</td>\n",
       "      <td>0.000000</td>\n",
       "      <td>0.000000</td>\n",
       "      <td>2009</td>\n",
       "    </tr>\n",
       "  </tbody>\n",
       "</table>\n",
       "</div>"
      ],
      "text/plain": [
       "        EPA    airEPA    yacEPA  Home_WP_pre  Away_WP_pre  Home_WP_post  \\\n",
       "0  2.014474  0.000000  0.000000     0.485675     0.514325      0.546433   \n",
       "1  0.077907 -1.068169  1.146076     0.546433     0.453567      0.551088   \n",
       "2 -1.402760  0.000000  0.000000     0.551088     0.448912      0.510793   \n",
       "3 -1.712583  3.318841 -5.031425     0.510793     0.489207      0.461217   \n",
       "4  2.097796  0.000000  0.000000     0.461217     0.538783      0.558929   \n",
       "\n",
       "   Away_WP_post  Win_Prob       WPA    airWPA    yacWPA  Season  \n",
       "0      0.453567  0.485675  0.060758  0.000000  0.000000    2009  \n",
       "1      0.448912  0.546433  0.004655 -0.032244  0.036899    2009  \n",
       "2      0.489207  0.551088 -0.040295  0.000000  0.000000    2009  \n",
       "3      0.538783  0.510793 -0.049576  0.106663 -0.156239    2009  \n",
       "4      0.441071  0.461217  0.097712  0.000000  0.000000    2009  "
      ]
     },
     "execution_count": 16,
     "metadata": {},
     "output_type": "execute_result"
    }
   ],
   "source": [
    "'''\n",
    "We can use the Panda's fillna() function to fill in missing values in a dataframe for us. \n",
    "One option we have is to specify what we want the NaN values to be replaced with. \n",
    "Here, I'm saying that I would like to replace all the NaN values with 0.\n",
    "'''\n",
    "# replace all NA's with 0\n",
    "subset_nfl_data.fillna(0)"
   ]
  },
  {
   "cell_type": "code",
   "execution_count": 17,
   "id": "251fd6de",
   "metadata": {
    "execution": {
     "iopub.execute_input": "2022-05-19T05:29:27.077642Z",
     "iopub.status.busy": "2022-05-19T05:29:27.077081Z",
     "iopub.status.idle": "2022-05-19T05:29:27.081886Z",
     "shell.execute_reply": "2022-05-19T05:29:27.080808Z"
    },
    "papermill": {
     "duration": 0.034882,
     "end_time": "2022-05-19T05:29:27.085153",
     "exception": false,
     "start_time": "2022-05-19T05:29:27.050271",
     "status": "completed"
    },
    "tags": []
   },
   "outputs": [
    {
     "name": "stdout",
     "output_type": "stream",
     "text": [
      "\n",
      "I could also be a bit more savvy and replace missing values\n",
      "with whatever value comes directly after it in the same column. \n",
      "(This makes a lot of sense for datasets where the observations \n",
      "have some sort of logical order to them.)\n",
      "\n"
     ]
    }
   ],
   "source": [
    "print('''\n",
    "I could also be a bit more savvy and replace missing values\n",
    "with whatever value comes directly after it in the same column. \n",
    "(This makes a lot of sense for datasets where the observations \n",
    "have some sort of logical order to them.)\n",
    "''')"
   ]
  },
  {
   "cell_type": "code",
   "execution_count": 18,
   "id": "d576c23f",
   "metadata": {
    "execution": {
     "iopub.execute_input": "2022-05-19T05:29:27.139776Z",
     "iopub.status.busy": "2022-05-19T05:29:27.139308Z",
     "iopub.status.idle": "2022-05-19T05:29:27.160833Z",
     "shell.execute_reply": "2022-05-19T05:29:27.160165Z"
    },
    "papermill": {
     "duration": 0.051881,
     "end_time": "2022-05-19T05:29:27.162730",
     "exception": false,
     "start_time": "2022-05-19T05:29:27.110849",
     "status": "completed"
    },
    "tags": []
   },
   "outputs": [
    {
     "data": {
      "text/html": [
       "<div>\n",
       "<style scoped>\n",
       "    .dataframe tbody tr th:only-of-type {\n",
       "        vertical-align: middle;\n",
       "    }\n",
       "\n",
       "    .dataframe tbody tr th {\n",
       "        vertical-align: top;\n",
       "    }\n",
       "\n",
       "    .dataframe thead th {\n",
       "        text-align: right;\n",
       "    }\n",
       "</style>\n",
       "<table border=\"1\" class=\"dataframe\">\n",
       "  <thead>\n",
       "    <tr style=\"text-align: right;\">\n",
       "      <th></th>\n",
       "      <th>EPA</th>\n",
       "      <th>airEPA</th>\n",
       "      <th>yacEPA</th>\n",
       "      <th>Home_WP_pre</th>\n",
       "      <th>Away_WP_pre</th>\n",
       "      <th>Home_WP_post</th>\n",
       "      <th>Away_WP_post</th>\n",
       "      <th>Win_Prob</th>\n",
       "      <th>WPA</th>\n",
       "      <th>airWPA</th>\n",
       "      <th>yacWPA</th>\n",
       "      <th>Season</th>\n",
       "    </tr>\n",
       "  </thead>\n",
       "  <tbody>\n",
       "    <tr>\n",
       "      <th>0</th>\n",
       "      <td>2.014474</td>\n",
       "      <td>-1.068169</td>\n",
       "      <td>1.146076</td>\n",
       "      <td>0.485675</td>\n",
       "      <td>0.514325</td>\n",
       "      <td>0.546433</td>\n",
       "      <td>0.453567</td>\n",
       "      <td>0.485675</td>\n",
       "      <td>0.060758</td>\n",
       "      <td>-0.032244</td>\n",
       "      <td>0.036899</td>\n",
       "      <td>2009</td>\n",
       "    </tr>\n",
       "    <tr>\n",
       "      <th>1</th>\n",
       "      <td>0.077907</td>\n",
       "      <td>-1.068169</td>\n",
       "      <td>1.146076</td>\n",
       "      <td>0.546433</td>\n",
       "      <td>0.453567</td>\n",
       "      <td>0.551088</td>\n",
       "      <td>0.448912</td>\n",
       "      <td>0.546433</td>\n",
       "      <td>0.004655</td>\n",
       "      <td>-0.032244</td>\n",
       "      <td>0.036899</td>\n",
       "      <td>2009</td>\n",
       "    </tr>\n",
       "    <tr>\n",
       "      <th>2</th>\n",
       "      <td>-1.402760</td>\n",
       "      <td>3.318841</td>\n",
       "      <td>-5.031425</td>\n",
       "      <td>0.551088</td>\n",
       "      <td>0.448912</td>\n",
       "      <td>0.510793</td>\n",
       "      <td>0.489207</td>\n",
       "      <td>0.551088</td>\n",
       "      <td>-0.040295</td>\n",
       "      <td>0.106663</td>\n",
       "      <td>-0.156239</td>\n",
       "      <td>2009</td>\n",
       "    </tr>\n",
       "    <tr>\n",
       "      <th>3</th>\n",
       "      <td>-1.712583</td>\n",
       "      <td>3.318841</td>\n",
       "      <td>-5.031425</td>\n",
       "      <td>0.510793</td>\n",
       "      <td>0.489207</td>\n",
       "      <td>0.461217</td>\n",
       "      <td>0.538783</td>\n",
       "      <td>0.510793</td>\n",
       "      <td>-0.049576</td>\n",
       "      <td>0.106663</td>\n",
       "      <td>-0.156239</td>\n",
       "      <td>2009</td>\n",
       "    </tr>\n",
       "    <tr>\n",
       "      <th>4</th>\n",
       "      <td>2.097796</td>\n",
       "      <td>0.000000</td>\n",
       "      <td>0.000000</td>\n",
       "      <td>0.461217</td>\n",
       "      <td>0.538783</td>\n",
       "      <td>0.558929</td>\n",
       "      <td>0.441071</td>\n",
       "      <td>0.461217</td>\n",
       "      <td>0.097712</td>\n",
       "      <td>0.000000</td>\n",
       "      <td>0.000000</td>\n",
       "      <td>2009</td>\n",
       "    </tr>\n",
       "  </tbody>\n",
       "</table>\n",
       "</div>"
      ],
      "text/plain": [
       "        EPA    airEPA    yacEPA  Home_WP_pre  Away_WP_pre  Home_WP_post  \\\n",
       "0  2.014474 -1.068169  1.146076     0.485675     0.514325      0.546433   \n",
       "1  0.077907 -1.068169  1.146076     0.546433     0.453567      0.551088   \n",
       "2 -1.402760  3.318841 -5.031425     0.551088     0.448912      0.510793   \n",
       "3 -1.712583  3.318841 -5.031425     0.510793     0.489207      0.461217   \n",
       "4  2.097796  0.000000  0.000000     0.461217     0.538783      0.558929   \n",
       "\n",
       "   Away_WP_post  Win_Prob       WPA    airWPA    yacWPA  Season  \n",
       "0      0.453567  0.485675  0.060758 -0.032244  0.036899    2009  \n",
       "1      0.448912  0.546433  0.004655 -0.032244  0.036899    2009  \n",
       "2      0.489207  0.551088 -0.040295  0.106663 -0.156239    2009  \n",
       "3      0.538783  0.510793 -0.049576  0.106663 -0.156239    2009  \n",
       "4      0.441071  0.461217  0.097712  0.000000  0.000000    2009  "
      ]
     },
     "execution_count": 18,
     "metadata": {},
     "output_type": "execute_result"
    }
   ],
   "source": [
    "# replace all NA's the value that comes directly after it in the same column, \n",
    "# then replace all the remaining na's with 0\n",
    "subset_nfl_data.fillna(method='bfill', axis=0).fillna(0)"
   ]
  },
  {
   "cell_type": "code",
   "execution_count": null,
   "id": "4e5889f5",
   "metadata": {
    "papermill": {
     "duration": 0.026215,
     "end_time": "2022-05-19T05:29:27.218829",
     "exception": false,
     "start_time": "2022-05-19T05:29:27.192614",
     "status": "completed"
    },
    "tags": []
   },
   "outputs": [],
   "source": []
  },
  {
   "cell_type": "code",
   "execution_count": 19,
   "id": "75b11f6d",
   "metadata": {
    "execution": {
     "iopub.execute_input": "2022-05-19T05:29:27.287249Z",
     "iopub.status.busy": "2022-05-19T05:29:27.286680Z",
     "iopub.status.idle": "2022-05-19T05:29:27.294315Z",
     "shell.execute_reply": "2022-05-19T05:29:27.293162Z"
    },
    "papermill": {
     "duration": 0.046867,
     "end_time": "2022-05-19T05:29:27.297119",
     "exception": false,
     "start_time": "2022-05-19T05:29:27.250252",
     "status": "completed"
    },
    "tags": []
   },
   "outputs": [
    {
     "data": {
      "text/plain": [
       "'\\n# number cells in a dataframe is equal to rows X columns\\ntotal_cells=np.product(no_of_rows_columns)\\nprint(\"total_cells ***** \",total_cells)\\n#missing_values_count was giving us missing values by columns\\n#total_missing giving us the total cells in the dataframe with missing values\\n#A.K.A sum of missing_values_count\\ntotal_missing = missing_value_count.sum()\\nprint(\"total_missing ***** \",total_missing)\\n# percent of data that is missing\\npercent_missing= (total_missing/total_cells) * 100\\nprint(\"percent_missing ****** \",percent_missing)\\n'"
      ]
     },
     "execution_count": 19,
     "metadata": {},
     "output_type": "execute_result"
    }
   ],
   "source": [
    "# re run this code to see results\n",
    "'''\n",
    "# number cells in a dataframe is equal to rows X columns\n",
    "total_cells=np.product(no_of_rows_columns)\n",
    "print(\"total_cells ***** \",total_cells)\n",
    "#missing_values_count was giving us missing values by columns\n",
    "#total_missing giving us the total cells in the dataframe with missing values\n",
    "#A.K.A sum of missing_values_count\n",
    "total_missing = missing_value_count.sum()\n",
    "print(\"total_missing ***** \",total_missing)\n",
    "# percent of data that is missing\n",
    "percent_missing= (total_missing/total_cells) * 100\n",
    "print(\"percent_missing ****** \",percent_missing)\n",
    "'''"
   ]
  },
  {
   "cell_type": "code",
   "execution_count": 20,
   "id": "2a71a39d",
   "metadata": {
    "execution": {
     "iopub.execute_input": "2022-05-19T05:29:27.370110Z",
     "iopub.status.busy": "2022-05-19T05:29:27.369564Z",
     "iopub.status.idle": "2022-05-19T05:29:27.374842Z",
     "shell.execute_reply": "2022-05-19T05:29:27.374166Z"
    },
    "papermill": {
     "duration": 0.043149,
     "end_time": "2022-05-19T05:29:27.377138",
     "exception": false,
     "start_time": "2022-05-19T05:29:27.333989",
     "status": "completed"
    },
    "tags": []
   },
   "outputs": [
    {
     "name": "stdout",
     "output_type": "stream",
     "text": [
      "Columns in original dataset: 102 \n",
      "\n",
      "Columns with na's dropped: 41\n",
      "We've lost quite a bit of data, but at this point we have successfully removed all the NaN's from our data.\n"
     ]
    }
   ],
   "source": [
    "# explore the placeholders like %s,%d ,:{}\n",
    "#use google and utilize that information\n",
    "# just how much data did we lose?\n",
    "print(\"Columns in original dataset: %d \\n\" % nfl_data.shape[1])\n",
    "print(\"Columns with na's dropped: %d\" % columns_with_na_dropped.shape[1])\n",
    "print(\"We've lost quite a bit of data, but at this point we have successfully removed all the NaN's from our data.\")"
   ]
  },
  {
   "cell_type": "code",
   "execution_count": null,
   "id": "68788257",
   "metadata": {
    "papermill": {
     "duration": 0.032204,
     "end_time": "2022-05-19T05:29:27.438876",
     "exception": false,
     "start_time": "2022-05-19T05:29:27.406672",
     "status": "completed"
    },
    "tags": []
   },
   "outputs": [],
   "source": []
  },
  {
   "cell_type": "code",
   "execution_count": 21,
   "id": "5d52b8b1",
   "metadata": {
    "execution": {
     "iopub.execute_input": "2022-05-19T05:29:27.497945Z",
     "iopub.status.busy": "2022-05-19T05:29:27.497500Z",
     "iopub.status.idle": "2022-05-19T05:29:27.502934Z",
     "shell.execute_reply": "2022-05-19T05:29:27.501367Z"
    },
    "papermill": {
     "duration": 0.037328,
     "end_time": "2022-05-19T05:29:27.505401",
     "exception": false,
     "start_time": "2022-05-19T05:29:27.468073",
     "status": "completed"
    },
    "tags": []
   },
   "outputs": [
    {
     "name": "stdout",
     "output_type": "stream",
     "text": [
      "do complete the below after this chapter and explore the codes of others as well\n",
      "https://www.kaggle.com/code/rtatman/data-cleaning-challenge-handling-missing-values\n"
     ]
    }
   ],
   "source": [
    "print(\"do complete the below after this chapter and explore the codes of others as well\")\n",
    "print(\"https://www.kaggle.com/code/rtatman/data-cleaning-challenge-handling-missing-values\")"
   ]
  },
  {
   "cell_type": "code",
   "execution_count": null,
   "id": "d6bae811",
   "metadata": {
    "papermill": {
     "duration": 0.027001,
     "end_time": "2022-05-19T05:29:27.561592",
     "exception": false,
     "start_time": "2022-05-19T05:29:27.534591",
     "status": "completed"
    },
    "tags": []
   },
   "outputs": [],
   "source": []
  }
 ],
 "metadata": {
  "kernelspec": {
   "display_name": "Python 3",
   "language": "python",
   "name": "python3"
  },
  "language_info": {
   "codemirror_mode": {
    "name": "ipython",
    "version": 3
   },
   "file_extension": ".py",
   "mimetype": "text/x-python",
   "name": "python",
   "nbconvert_exporter": "python",
   "pygments_lexer": "ipython3",
   "version": "3.7.12"
  },
  "papermill": {
   "default_parameters": {},
   "duration": 21.06289,
   "end_time": "2022-05-19T05:29:28.311791",
   "environment_variables": {},
   "exception": null,
   "input_path": "__notebook__.ipynb",
   "output_path": "__notebook__.ipynb",
   "parameters": {},
   "start_time": "2022-05-19T05:29:07.248901",
   "version": "2.3.4"
  }
 },
 "nbformat": 4,
 "nbformat_minor": 5
}
