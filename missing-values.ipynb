{
 "cells": [
  {
   "cell_type": "code",
   "execution_count": 1,
   "id": "a6bc50e4",
   "metadata": {
    "_cell_guid": "b1076dfc-b9ad-4769-8c92-a6c4dae69d19",
    "_uuid": "8f2839f25d086af736a60e9eeb907d3b93b6e0e5",
    "execution": {
     "iopub.execute_input": "2022-05-18T08:27:09.730133Z",
     "iopub.status.busy": "2022-05-18T08:27:09.729773Z",
     "iopub.status.idle": "2022-05-18T08:27:09.759372Z",
     "shell.execute_reply": "2022-05-18T08:27:09.757705Z"
    },
    "papermill": {
     "duration": 0.045505,
     "end_time": "2022-05-18T08:27:09.761985",
     "exception": false,
     "start_time": "2022-05-18T08:27:09.716480",
     "status": "completed"
    },
    "tags": []
   },
   "outputs": [
    {
     "name": "stdout",
     "output_type": "stream",
     "text": [
      "/kaggle/input/nflplaybyplay2009to2016/NFL Play by Play 2009-2017 (v4).csv\n",
      "/kaggle/input/nflplaybyplay2009to2016/NFL Play by Play 2009-2016 (v3).csv\n",
      "/kaggle/input/nflplaybyplay2009to2016/NFL Play by Play 2009-2018 (v5).csv\n",
      "/kaggle/input/gufhtugu-publications-dataset-challenge/GP Orders - 2.csv\n",
      "/kaggle/input/gufhtugu-publications-dataset-challenge/GP Orders - 4.csv\n",
      "/kaggle/input/gufhtugu-publications-dataset-challenge/GP Orders - 5.csv\n"
     ]
    }
   ],
   "source": [
    "# This Python 3 environment comes with many helpful analytics libraries installed\n",
    "# It is defined by the kaggle/python Docker image: https://github.com/kaggle/docker-python\n",
    "# For example, here's several helpful packages to load\n",
    "\n",
    "import numpy as np # linear algebra\n",
    "import pandas as pd # data processing, CSV file I/O (e.g. pd.read_csv)\n",
    "\n",
    "# Input data files are available in the read-only \"../input/\" directory\n",
    "# For example, running this (by clicking run or pressing Shift+Enter) will list all files under the input directory\n",
    "\n",
    "import os\n",
    "for dirname, _, filenames in os.walk('/kaggle/input'):\n",
    "    for filename in filenames:\n",
    "        print(os.path.join(dirname, filename))\n",
    "\n",
    "# You can write up to 20GB to the current directory (/kaggle/working/) that gets preserved as output when you create a version using \"Save & Run All\" \n",
    "# You can also write temporary files to /kaggle/temp/, but they won't be saved outside of the current session"
   ]
  },
  {
   "cell_type": "code",
   "execution_count": 2,
   "id": "e0423c58",
   "metadata": {
    "execution": {
     "iopub.execute_input": "2022-05-18T08:27:09.785848Z",
     "iopub.status.busy": "2022-05-18T08:27:09.785312Z",
     "iopub.status.idle": "2022-05-18T08:27:18.922205Z",
     "shell.execute_reply": "2022-05-18T08:27:18.921561Z"
    },
    "papermill": {
     "duration": 9.151074,
     "end_time": "2022-05-18T08:27:18.924357",
     "exception": false,
     "start_time": "2022-05-18T08:27:09.773283",
     "status": "completed"
    },
    "tags": []
   },
   "outputs": [
    {
     "name": "stderr",
     "output_type": "stream",
     "text": [
      "/opt/conda/lib/python3.7/site-packages/IPython/core/interactiveshell.py:3524: DtypeWarning: Columns (25,51) have mixed types.Specify dtype option on import or set low_memory=False.\n",
      "  exec(code_obj, self.user_global_ns, self.user_ns)\n"
     ]
    }
   ],
   "source": [
    "# modules we'll use\n",
    "import pandas as pd\n",
    "import numpy as np\n",
    "\n",
    "# read in all our data\n",
    "nfl_data = pd.read_csv(\"../input/nflplaybyplay2009to2016/NFL Play by Play 2009-2017 (v4).csv\")\n",
    "\n",
    "# set seed for reproducibility\n",
    "np.random.seed(0) "
   ]
  },
  {
   "cell_type": "code",
   "execution_count": 3,
   "id": "47c4fbe9",
   "metadata": {
    "execution": {
     "iopub.execute_input": "2022-05-18T08:27:18.948434Z",
     "iopub.status.busy": "2022-05-18T08:27:18.947594Z",
     "iopub.status.idle": "2022-05-18T08:27:18.984345Z",
     "shell.execute_reply": "2022-05-18T08:27:18.983439Z"
    },
    "papermill": {
     "duration": 0.051818,
     "end_time": "2022-05-18T08:27:18.987184",
     "exception": false,
     "start_time": "2022-05-18T08:27:18.935366",
     "status": "completed"
    },
    "tags": []
   },
   "outputs": [
    {
     "data": {
      "text/html": [
       "<div>\n",
       "<style scoped>\n",
       "    .dataframe tbody tr th:only-of-type {\n",
       "        vertical-align: middle;\n",
       "    }\n",
       "\n",
       "    .dataframe tbody tr th {\n",
       "        vertical-align: top;\n",
       "    }\n",
       "\n",
       "    .dataframe thead th {\n",
       "        text-align: right;\n",
       "    }\n",
       "</style>\n",
       "<table border=\"1\" class=\"dataframe\">\n",
       "  <thead>\n",
       "    <tr style=\"text-align: right;\">\n",
       "      <th></th>\n",
       "      <th>Date</th>\n",
       "      <th>GameID</th>\n",
       "      <th>Drive</th>\n",
       "      <th>qtr</th>\n",
       "      <th>down</th>\n",
       "      <th>time</th>\n",
       "      <th>TimeUnder</th>\n",
       "      <th>TimeSecs</th>\n",
       "      <th>PlayTimeDiff</th>\n",
       "      <th>SideofField</th>\n",
       "      <th>...</th>\n",
       "      <th>yacEPA</th>\n",
       "      <th>Home_WP_pre</th>\n",
       "      <th>Away_WP_pre</th>\n",
       "      <th>Home_WP_post</th>\n",
       "      <th>Away_WP_post</th>\n",
       "      <th>Win_Prob</th>\n",
       "      <th>WPA</th>\n",
       "      <th>airWPA</th>\n",
       "      <th>yacWPA</th>\n",
       "      <th>Season</th>\n",
       "    </tr>\n",
       "  </thead>\n",
       "  <tbody>\n",
       "    <tr>\n",
       "      <th>0</th>\n",
       "      <td>2009-09-10</td>\n",
       "      <td>2009091000</td>\n",
       "      <td>1</td>\n",
       "      <td>1</td>\n",
       "      <td>NaN</td>\n",
       "      <td>15:00</td>\n",
       "      <td>15</td>\n",
       "      <td>3600.0</td>\n",
       "      <td>0.0</td>\n",
       "      <td>TEN</td>\n",
       "      <td>...</td>\n",
       "      <td>NaN</td>\n",
       "      <td>0.485675</td>\n",
       "      <td>0.514325</td>\n",
       "      <td>0.546433</td>\n",
       "      <td>0.453567</td>\n",
       "      <td>0.485675</td>\n",
       "      <td>0.060758</td>\n",
       "      <td>NaN</td>\n",
       "      <td>NaN</td>\n",
       "      <td>2009</td>\n",
       "    </tr>\n",
       "    <tr>\n",
       "      <th>1</th>\n",
       "      <td>2009-09-10</td>\n",
       "      <td>2009091000</td>\n",
       "      <td>1</td>\n",
       "      <td>1</td>\n",
       "      <td>1.0</td>\n",
       "      <td>14:53</td>\n",
       "      <td>15</td>\n",
       "      <td>3593.0</td>\n",
       "      <td>7.0</td>\n",
       "      <td>PIT</td>\n",
       "      <td>...</td>\n",
       "      <td>1.146076</td>\n",
       "      <td>0.546433</td>\n",
       "      <td>0.453567</td>\n",
       "      <td>0.551088</td>\n",
       "      <td>0.448912</td>\n",
       "      <td>0.546433</td>\n",
       "      <td>0.004655</td>\n",
       "      <td>-0.032244</td>\n",
       "      <td>0.036899</td>\n",
       "      <td>2009</td>\n",
       "    </tr>\n",
       "    <tr>\n",
       "      <th>2</th>\n",
       "      <td>2009-09-10</td>\n",
       "      <td>2009091000</td>\n",
       "      <td>1</td>\n",
       "      <td>1</td>\n",
       "      <td>2.0</td>\n",
       "      <td>14:16</td>\n",
       "      <td>15</td>\n",
       "      <td>3556.0</td>\n",
       "      <td>37.0</td>\n",
       "      <td>PIT</td>\n",
       "      <td>...</td>\n",
       "      <td>NaN</td>\n",
       "      <td>0.551088</td>\n",
       "      <td>0.448912</td>\n",
       "      <td>0.510793</td>\n",
       "      <td>0.489207</td>\n",
       "      <td>0.551088</td>\n",
       "      <td>-0.040295</td>\n",
       "      <td>NaN</td>\n",
       "      <td>NaN</td>\n",
       "      <td>2009</td>\n",
       "    </tr>\n",
       "    <tr>\n",
       "      <th>3</th>\n",
       "      <td>2009-09-10</td>\n",
       "      <td>2009091000</td>\n",
       "      <td>1</td>\n",
       "      <td>1</td>\n",
       "      <td>3.0</td>\n",
       "      <td>13:35</td>\n",
       "      <td>14</td>\n",
       "      <td>3515.0</td>\n",
       "      <td>41.0</td>\n",
       "      <td>PIT</td>\n",
       "      <td>...</td>\n",
       "      <td>-5.031425</td>\n",
       "      <td>0.510793</td>\n",
       "      <td>0.489207</td>\n",
       "      <td>0.461217</td>\n",
       "      <td>0.538783</td>\n",
       "      <td>0.510793</td>\n",
       "      <td>-0.049576</td>\n",
       "      <td>0.106663</td>\n",
       "      <td>-0.156239</td>\n",
       "      <td>2009</td>\n",
       "    </tr>\n",
       "    <tr>\n",
       "      <th>4</th>\n",
       "      <td>2009-09-10</td>\n",
       "      <td>2009091000</td>\n",
       "      <td>1</td>\n",
       "      <td>1</td>\n",
       "      <td>4.0</td>\n",
       "      <td>13:27</td>\n",
       "      <td>14</td>\n",
       "      <td>3507.0</td>\n",
       "      <td>8.0</td>\n",
       "      <td>PIT</td>\n",
       "      <td>...</td>\n",
       "      <td>NaN</td>\n",
       "      <td>0.461217</td>\n",
       "      <td>0.538783</td>\n",
       "      <td>0.558929</td>\n",
       "      <td>0.441071</td>\n",
       "      <td>0.461217</td>\n",
       "      <td>0.097712</td>\n",
       "      <td>NaN</td>\n",
       "      <td>NaN</td>\n",
       "      <td>2009</td>\n",
       "    </tr>\n",
       "  </tbody>\n",
       "</table>\n",
       "<p>5 rows × 102 columns</p>\n",
       "</div>"
      ],
      "text/plain": [
       "         Date      GameID  Drive  qtr  down   time  TimeUnder  TimeSecs  \\\n",
       "0  2009-09-10  2009091000      1    1   NaN  15:00         15    3600.0   \n",
       "1  2009-09-10  2009091000      1    1   1.0  14:53         15    3593.0   \n",
       "2  2009-09-10  2009091000      1    1   2.0  14:16         15    3556.0   \n",
       "3  2009-09-10  2009091000      1    1   3.0  13:35         14    3515.0   \n",
       "4  2009-09-10  2009091000      1    1   4.0  13:27         14    3507.0   \n",
       "\n",
       "   PlayTimeDiff SideofField  ...    yacEPA  Home_WP_pre  Away_WP_pre  \\\n",
       "0           0.0         TEN  ...       NaN     0.485675     0.514325   \n",
       "1           7.0         PIT  ...  1.146076     0.546433     0.453567   \n",
       "2          37.0         PIT  ...       NaN     0.551088     0.448912   \n",
       "3          41.0         PIT  ... -5.031425     0.510793     0.489207   \n",
       "4           8.0         PIT  ...       NaN     0.461217     0.538783   \n",
       "\n",
       "   Home_WP_post  Away_WP_post  Win_Prob       WPA    airWPA    yacWPA  Season  \n",
       "0      0.546433      0.453567  0.485675  0.060758       NaN       NaN    2009  \n",
       "1      0.551088      0.448912  0.546433  0.004655 -0.032244  0.036899    2009  \n",
       "2      0.510793      0.489207  0.551088 -0.040295       NaN       NaN    2009  \n",
       "3      0.461217      0.538783  0.510793 -0.049576  0.106663 -0.156239    2009  \n",
       "4      0.558929      0.441071  0.461217  0.097712       NaN       NaN    2009  \n",
       "\n",
       "[5 rows x 102 columns]"
      ]
     },
     "execution_count": 3,
     "metadata": {},
     "output_type": "execute_result"
    }
   ],
   "source": [
    "#analyzing the top5 rows of the dataset\n",
    "nfl_data.head()"
   ]
  },
  {
   "cell_type": "code",
   "execution_count": 4,
   "id": "6a19d2e0",
   "metadata": {
    "execution": {
     "iopub.execute_input": "2022-05-18T08:27:19.012213Z",
     "iopub.status.busy": "2022-05-18T08:27:19.011561Z",
     "iopub.status.idle": "2022-05-18T08:27:20.167393Z",
     "shell.execute_reply": "2022-05-18T08:27:20.166411Z"
    },
    "papermill": {
     "duration": 1.17115,
     "end_time": "2022-05-18T08:27:20.170018",
     "exception": false,
     "start_time": "2022-05-18T08:27:18.998868",
     "status": "completed"
    },
    "tags": []
   },
   "outputs": [
    {
     "name": "stdout",
     "output_type": "stream",
     "text": [
      "Date             0\n",
      "GameID           0\n",
      "Drive            0\n",
      "qtr              0\n",
      "down         61154\n",
      "             ...  \n",
      "Win_Prob     25009\n",
      "WPA           5541\n",
      "airWPA      248501\n",
      "yacWPA      248762\n",
      "Season           0\n",
      "Length: 102, dtype: int64\n",
      "********************************\n"
     ]
    }
   ],
   "source": [
    "#finding missing value in the data\n",
    "missing_value_count=nfl_data.isnull().sum()\n",
    "print(missing_value_count)\n",
    "\n",
    "print(\"********************************\")\n",
    "\n"
   ]
  },
  {
   "cell_type": "code",
   "execution_count": 5,
   "id": "571cc42f",
   "metadata": {
    "execution": {
     "iopub.execute_input": "2022-05-18T08:27:20.196127Z",
     "iopub.status.busy": "2022-05-18T08:27:20.195854Z",
     "iopub.status.idle": "2022-05-18T08:27:20.202796Z",
     "shell.execute_reply": "2022-05-18T08:27:20.201919Z"
    },
    "papermill": {
     "duration": 0.022286,
     "end_time": "2022-05-18T08:27:20.204752",
     "exception": false,
     "start_time": "2022-05-18T08:27:20.182466",
     "status": "completed"
    },
    "tags": []
   },
   "outputs": [
    {
     "data": {
      "text/plain": [
       "Date                0\n",
       "GameID              0\n",
       "Drive               0\n",
       "qtr                 0\n",
       "down            61154\n",
       "time              224\n",
       "TimeUnder           0\n",
       "TimeSecs          224\n",
       "PlayTimeDiff      444\n",
       "SideofField       528\n",
       "dtype: int64"
      ]
     },
     "execution_count": 5,
     "metadata": {},
     "output_type": "execute_result"
    }
   ],
   "source": [
    "#missing value count by columns first 10 column as mentioned in the index \n",
    "#[0:10]\n",
    "missing_value_count[0:10]"
   ]
  },
  {
   "cell_type": "code",
   "execution_count": 6,
   "id": "9f7a5b4f",
   "metadata": {
    "execution": {
     "iopub.execute_input": "2022-05-18T08:27:20.231728Z",
     "iopub.status.busy": "2022-05-18T08:27:20.231013Z",
     "iopub.status.idle": "2022-05-18T08:27:20.235746Z",
     "shell.execute_reply": "2022-05-18T08:27:20.234840Z"
    },
    "papermill": {
     "duration": 0.021661,
     "end_time": "2022-05-18T08:27:20.238809",
     "exception": false,
     "start_time": "2022-05-18T08:27:20.217148",
     "status": "completed"
    },
    "tags": []
   },
   "outputs": [
    {
     "name": "stdout",
     "output_type": "stream",
     "text": [
      "(407688, 102)\n"
     ]
    }
   ],
   "source": [
    "no_of_rows_columns=nfl_data.shape\n",
    "print(no_of_rows_columns)"
   ]
  },
  {
   "cell_type": "code",
   "execution_count": 7,
   "id": "7ee8d0eb",
   "metadata": {
    "execution": {
     "iopub.execute_input": "2022-05-18T08:27:20.266584Z",
     "iopub.status.busy": "2022-05-18T08:27:20.265720Z",
     "iopub.status.idle": "2022-05-18T08:27:20.273215Z",
     "shell.execute_reply": "2022-05-18T08:27:20.272216Z"
    },
    "papermill": {
     "duration": 0.023556,
     "end_time": "2022-05-18T08:27:20.275150",
     "exception": false,
     "start_time": "2022-05-18T08:27:20.251594",
     "status": "completed"
    },
    "tags": []
   },
   "outputs": [
    {
     "name": "stdout",
     "output_type": "stream",
     "text": [
      "total_cells *****  41584176\n",
      "total_missing *****  10342875\n"
     ]
    }
   ],
   "source": [
    "# number cells in a dataframe is equal to rows X columns\n",
    "total_cells=np.product(no_of_rows_columns)\n",
    "print(\"total_cells ***** \",total_cells)\n",
    "#missing_values_count was giving us missing values by columns\n",
    "#total_missing giving us the total cells in the dataframe with missing values\n",
    "#A.K.A sum of missing_values_count\n",
    "total_missing = missing_value_count.sum()\n",
    "print(\"total_missing ***** \",total_missing)"
   ]
  },
  {
   "cell_type": "code",
   "execution_count": 8,
   "id": "78268fab",
   "metadata": {
    "execution": {
     "iopub.execute_input": "2022-05-18T08:27:20.303379Z",
     "iopub.status.busy": "2022-05-18T08:27:20.302840Z",
     "iopub.status.idle": "2022-05-18T08:27:20.311942Z",
     "shell.execute_reply": "2022-05-18T08:27:20.310873Z"
    },
    "papermill": {
     "duration": 0.025778,
     "end_time": "2022-05-18T08:27:20.314050",
     "exception": false,
     "start_time": "2022-05-18T08:27:20.288272",
     "status": "completed"
    },
    "tags": []
   },
   "outputs": [
    {
     "name": "stdout",
     "output_type": "stream",
     "text": [
      "percent_missing ******  24.87214126835169\n"
     ]
    },
    {
     "data": {
      "text/plain": [
       "'\\nFigure out this\\nFormating tips:\\nUse str.format() to format a number as a percentage\\nPass a number into str.format() with \"{:.0%}\" as str to format the number as a percentage.\\na_number = 0.20\\npercentage = \"{:.0%}\".format(a_number)\\nprint(percentage)\\nOutput would be like this 20%\\n\\nTo include a specific number of decimal places, use \"{:.n%}\", where n is the desired number of decimal places.\\na_number = 1 / 3\\npercentage = \"{:.2%}\".format(a_number)\\nprint(percentage)\\nOutput would be this 33.33%\\n'"
      ]
     },
     "execution_count": 8,
     "metadata": {},
     "output_type": "execute_result"
    }
   ],
   "source": [
    "# percent of data that is missing\n",
    "percent_missing= (total_missing/total_cells) * 100\n",
    "print(\"percent_missing ****** \",percent_missing)\n",
    "'''\n",
    "Figure out this\n",
    "Formating tips:\n",
    "Use str.format() to format a number as a percentage\n",
    "Pass a number into str.format() with \"{:.0%}\" as str to format the number as a percentage.\n",
    "a_number = 0.20\n",
    "percentage = \"{:.0%}\".format(a_number)\n",
    "print(percentage)\n",
    "Output would be like this 20%\n",
    "\n",
    "To include a specific number of decimal places, use \"{:.n%}\", where n is the desired number of decimal places.\n",
    "a_number = 1 / 3\n",
    "percentage = \"{:.2%}\".format(a_number)\n",
    "print(percentage)\n",
    "Output would be this 33.33%\n",
    "'''"
   ]
  },
  {
   "cell_type": "code",
   "execution_count": null,
   "id": "5e2d8150",
   "metadata": {
    "papermill": {
     "duration": 0.013661,
     "end_time": "2022-05-18T08:27:20.341854",
     "exception": false,
     "start_time": "2022-05-18T08:27:20.328193",
     "status": "completed"
    },
    "tags": []
   },
   "outputs": [],
   "source": []
  }
 ],
 "metadata": {
  "kernelspec": {
   "display_name": "Python 3",
   "language": "python",
   "name": "python3"
  },
  "language_info": {
   "codemirror_mode": {
    "name": "ipython",
    "version": 3
   },
   "file_extension": ".py",
   "mimetype": "text/x-python",
   "name": "python",
   "nbconvert_exporter": "python",
   "pygments_lexer": "ipython3",
   "version": "3.7.12"
  },
  "papermill": {
   "default_parameters": {},
   "duration": 21.2327,
   "end_time": "2022-05-18T08:27:21.076810",
   "environment_variables": {},
   "exception": null,
   "input_path": "__notebook__.ipynb",
   "output_path": "__notebook__.ipynb",
   "parameters": {},
   "start_time": "2022-05-18T08:26:59.844110",
   "version": "2.3.4"
  }
 },
 "nbformat": 4,
 "nbformat_minor": 5
}
